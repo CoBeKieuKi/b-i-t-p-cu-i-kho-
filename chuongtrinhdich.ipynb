{
 "cells": [
  {
   "cell_type": "code",
   "execution_count": 2,
   "id": "4d0d0467-be4f-4124-a5c1-a882d2bee79b",
   "metadata": {},
   "outputs": [
    {
     "name": "stdout",
     "output_type": "stream",
     "text": [
      "Error: The Following Error occured: list index out of range\n"
     ]
    }
   ],
   "source": [
    "import tkinter as tk\n",
    "from tkinter import ttk\n",
    "from googletrans import Translator\n",
    "from PyDictionary import PyDictionary\n",
    "\n",
    "def translate():\n",
    "    if entry.get()==\"\":\n",
    "        result_var.set(\"Vui lòng nhập từ cần dịch.\")\n",
    "        return\n",
    "    else:\n",
    "        translator = Translator()\n",
    "        translation = translator.translate(entry.get(), dest= destination_language.get(),\n",
    "                                          src=source_language.get())\n",
    "        result_label.config(text=translation.text)\n",
    "\n",
    "        dictionary = PyDictionary()\n",
    "        meaning = dictionary.meaning(translation.text)\n",
    "        \n",
    "        result_var.set(f\"Dịch: {translation.text}\")\n",
    "\n",
    "        if meaning:\n",
    "            details_var.set(f\"Chi tiết: {meaning}\")\n",
    "        else:\n",
    "            details_var.set(\"Không tìm thấy thông tin chi tiết.\")\n",
    "        \n",
    "        \n",
    "screen = tk.Tk()\n",
    "screen.title(\"Từ điển Việt->Anh\")\n",
    "screen.geometry(\"700x500\")\n",
    "\n",
    "languages = [\"vi\", \"en\"]\n",
    "source_language = tk.StringVar()\n",
    "destination_language = tk.StringVar()\n",
    "source_language.set(languages[0])\n",
    "destination_language.set(languages[1])\n",
    "\n",
    "label1 = tk.Label(screen,text=\"CHỌN CHẾ ĐỘ DỊCH\")\n",
    "label1.pack()\n",
    "\n",
    "kt1 = tk.Label(screen,text=\" \")\n",
    "kt1.pack()\n",
    "\n",
    "label_source = tk.Label(screen, text=\"Ngôn ngữ nguồn\")\n",
    "label_source.pack()\n",
    "\n",
    "combo_source = ttk.Combobox(screen, textvariable=source_language, values=languages)\n",
    "combo_source.pack()\n",
    "\n",
    "kt2 = tk.Label(screen,text=\" \")\n",
    "kt2.pack()\n",
    "\n",
    "label_destination = tk.Label(screen, text=\"Ngôn ngữ đích\")\n",
    "label_destination.pack()\n",
    "\n",
    "combo_destination = ttk.Combobox(screen, textvariable=destination_language, values=languages)\n",
    "combo_destination.pack()\n",
    "\n",
    "kt3 = tk.Label(screen,text=\" \")\n",
    "kt3.pack()\n",
    "\n",
    "label5 = tk.Label(screen,text=\"Xin mời nhập từ\")\n",
    "label5.pack()\n",
    "\n",
    "entry_variable = tk.StringVar()\n",
    "entry = tk.Entry(screen,textvariable=entry_variable, width=100)\n",
    "entry.pack()\n",
    "\n",
    "kt4 = tk.Label(screen,text=\" \")\n",
    "kt4.pack()\n",
    "\n",
    "translate_button = tk.Button(screen, text=\"Dịch và xem loại từ\",command=translate)\n",
    "translate_button.pack()\n",
    "\n",
    "result_var = tk.StringVar()\n",
    "result_label = tk.Label(screen, textvariable=result_var)\n",
    "result_label.pack()\n",
    "\n",
    "details_var = tk.StringVar()\n",
    "details_label = tk.Label(screen, textvariable=details_var,wraplength=600)\n",
    "details_label.pack()\n",
    "\n",
    "screen.mainloop()"
   ]
  },
  {
   "cell_type": "code",
   "execution_count": 10,
   "id": "e6444271-8809-450a-9d67-d5f2c7267eaf",
   "metadata": {},
   "outputs": [],
   "source": []
  },
  {
   "cell_type": "code",
   "execution_count": null,
   "id": "bd3e60b5-67be-4f7e-9708-a35a65301ffc",
   "metadata": {},
   "outputs": [],
   "source": []
  },
  {
   "cell_type": "code",
   "execution_count": null,
   "id": "e31fd414-17cb-41ce-a120-d506de7a29c7",
   "metadata": {},
   "outputs": [],
   "source": []
  }
 ],
 "metadata": {
  "kernelspec": {
   "display_name": "Python 3 (ipykernel)",
   "language": "python",
   "name": "python3"
  },
  "language_info": {
   "codemirror_mode": {
    "name": "ipython",
    "version": 3
   },
   "file_extension": ".py",
   "mimetype": "text/x-python",
   "name": "python",
   "nbconvert_exporter": "python",
   "pygments_lexer": "ipython3",
   "version": "3.11.6"
  }
 },
 "nbformat": 4,
 "nbformat_minor": 5
}
